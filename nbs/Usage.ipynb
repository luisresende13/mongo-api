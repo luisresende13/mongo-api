{
 "cells": [
  {
   "cell_type": "markdown",
   "id": "bf2a89bb-94ba-49e7-9df2-cd882e38aa84",
   "metadata": {},
   "source": [
    "#### Basic Usage: MongoDB API Flask App"
   ]
  },
  {
   "cell_type": "markdown",
   "id": "80b90c4b-fe2d-4907-9e4b-1c4ec0c39e77",
   "metadata": {},
   "source": [
    "#### Utility functions"
   ]
  },
  {
   "cell_type": "code",
   "execution_count": 15,
   "id": "ea1601b7-e819-4745-a333-fae230f219dc",
   "metadata": {},
   "outputs": [],
   "source": [
    "import requests\n",
    "\n",
    "# Base URL of the API\n",
    "base_url = \"http://localhost:8080\"\n",
    "\n",
    "# Function to send GET request to retrieve records from a collection\n",
    "def get_records(database, collection, query_params=None):\n",
    "    url = f\"{base_url}/{database}/{collection}\"\n",
    "    response = requests.get(url, params=query_params)\n",
    "    print(response.status_code)\n",
    "    print(response.json())\n",
    "\n",
    "# Function to send GET request to retrieve a specific record by ID\n",
    "def get_record_by_id(database, collection, record_id):\n",
    "    url = f\"{base_url}/{database}/{collection}/{record_id}\"\n",
    "    response = requests.get(url)\n",
    "    print(response.status_code)\n",
    "    print(response.json())\n",
    "\n",
    "# Function to send POST request to create a new record in a collection\n",
    "def create_records(database, collection, record_data):\n",
    "    url = f\"{base_url}/{database}/{collection}\"\n",
    "    response = requests.post(url, json=record_data)\n",
    "    print(response.status_code)\n",
    "    print(response.json())\n",
    "\n",
    "# Function to send PUT request to update a record by ID\n",
    "def update_record(database, collection, record_id, updated_data):\n",
    "    url = f\"{base_url}/{database}/{collection}/{record_id}\"\n",
    "    response = requests.put(url, json=updated_data)\n",
    "    print(response.status_code)\n",
    "    print(response.json())\n",
    "\n",
    "# Function to send DELETE request to delete a record by ID\n",
    "def delete_record(database, collection, record_id):\n",
    "    url = f\"{base_url}/{database}/{collection}/{record_id}\"\n",
    "    response = requests.delete(url)\n",
    "    print(response.status_code)\n",
    "    print(response.json())"
   ]
  },
  {
   "cell_type": "markdown",
   "id": "707707b7-45bb-4bc4-9a79-f8b769498726",
   "metadata": {},
   "source": [
    "#### Example usage"
   ]
  },
  {
   "cell_type": "code",
   "execution_count": 12,
   "id": "a28e6530-95f4-47c9-a3d1-38cd6016a10b",
   "metadata": {},
   "outputs": [
    {
     "name": "stdout",
     "output_type": "stream",
     "text": [
      "200\n",
      "[{'_id': '66024315fd428e5439e15642', 'email': 'example@example.com', 'password': 'password123', 'username': 'user123'}]\n"
     ]
    }
   ],
   "source": [
    "# Get all records from the \"users\" collection\n",
    "get_records(\"octacity\", \"users\")"
   ]
  },
  {
   "cell_type": "code",
   "execution_count": 13,
   "id": "3b02488b-2253-4c2b-90d5-a1b86031123e",
   "metadata": {},
   "outputs": [
    {
     "name": "stdout",
     "output_type": "stream",
     "text": [
      "200\n",
      "{'_id': '66024315fd428e5439e15642', 'email': 'example@example.com', 'password': 'password123', 'username': 'user123'}\n"
     ]
    }
   ],
   "source": [
    "# Get a specific record by ID from the \"users\" collection\n",
    "get_record_by_id(\"octacity\", \"users\", \"66024315fd428e5439e15642\")"
   ]
  },
  {
   "cell_type": "code",
   "execution_count": 14,
   "id": "73105ee8-b137-484e-9fcb-29628671177d",
   "metadata": {},
   "outputs": [
    {
     "name": "stdout",
     "output_type": "stream",
     "text": [
      "201\n",
      "{'data': {'_id': '66025fab772b63003218761e', 'email': 'example@email.com', 'password': 'example_password', 'username': 'example_username'}, 'message': 'Record(s) created successfully'}\n"
     ]
    }
   ],
   "source": [
    "# Create a new record in the \"users\" collection\n",
    "record = {\"username\": \"example_username\", \"password\": \"example_password\", \"email\": \"example@email.com\"}\n",
    "\n",
    "create_records(\"octacity\", \"users\", record)"
   ]
  },
  {
   "cell_type": "code",
   "execution_count": 16,
   "id": "3f9f32fa-7818-41cb-91a9-5875987ddba4",
   "metadata": {},
   "outputs": [
    {
     "name": "stdout",
     "output_type": "stream",
     "text": [
      "201\n",
      "{'data': [{'_id': '66025fd5772b63003218761f', 'email': 'example_2@email.com', 'password': 'example_password_2', 'username': 'example_username_2'}], 'message': 'Record(s) created successfully'}\n"
     ]
    }
   ],
   "source": [
    "# Create a new record in the \"users\" collection\n",
    "records = [{\"username\": \"example_username_2\", \"password\": \"example_password_2\", \"email\": \"example_2@email.com\"}]\n",
    "\n",
    "create_records(\"octacity\", \"users\", records)"
   ]
  },
  {
   "cell_type": "code",
   "execution_count": 17,
   "id": "bcd3e61f-71f5-42a6-a3e5-cdc3656a2e1b",
   "metadata": {},
   "outputs": [
    {
     "name": "stdout",
     "output_type": "stream",
     "text": [
      "200\n",
      "{'data': {'email': 'new_email@example.com'}, 'message': 'Record updated successfully'}\n"
     ]
    }
   ],
   "source": [
    "# Update a record by ID in the \"users\" collection\n",
    "update_record(\"octacity\", \"users\", \"66025fab772b63003218761e\", {\"email\": \"new_email@example.com\"})"
   ]
  },
  {
   "cell_type": "code",
   "execution_count": 18,
   "id": "89a245d1-244d-4645-a791-80987feb6cb6",
   "metadata": {},
   "outputs": [
    {
     "name": "stdout",
     "output_type": "stream",
     "text": [
      "200\n",
      "{'deleted_record_id': '66025fab772b63003218761e', 'message': 'Record deleted successfully'}\n"
     ]
    }
   ],
   "source": [
    "# Delete a record by ID from the \"users\" collection\n",
    "delete_record(\"octacity\", \"users\", \"66025fab772b63003218761e\")"
   ]
  },
  {
   "cell_type": "code",
   "execution_count": 19,
   "id": "d680722e-5301-4cf5-bca3-06c433aa5281",
   "metadata": {},
   "outputs": [
    {
     "name": "stdout",
     "output_type": "stream",
     "text": [
      "200\n",
      "[{'_id': '66024315fd428e5439e15642', 'email': 'example@example.com', 'password': 'password123', 'username': 'user123'}, {'_id': '66025fd5772b63003218761f', 'email': 'example_2@email.com', 'password': 'example_password_2', 'username': 'example_username_2'}]\n"
     ]
    }
   ],
   "source": [
    "# Get all records from the \"users\" collection\n",
    "get_records(\"octacity\", \"users\")"
   ]
  }
 ],
 "metadata": {
  "kernelspec": {
   "display_name": "Python 3 (ipykernel)",
   "language": "python",
   "name": "python3"
  },
  "language_info": {
   "codemirror_mode": {
    "name": "ipython",
    "version": 3
   },
   "file_extension": ".py",
   "mimetype": "text/x-python",
   "name": "python",
   "nbconvert_exporter": "python",
   "pygments_lexer": "ipython3",
   "version": "3.11.7"
  }
 },
 "nbformat": 4,
 "nbformat_minor": 5
}
