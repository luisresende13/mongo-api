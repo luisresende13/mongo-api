{
 "cells": [
  {
   "cell_type": "markdown",
   "id": "bf2a89bb-94ba-49e7-9df2-cd882e38aa84",
   "metadata": {},
   "source": [
    "#### Basic Usage: MongoDB API Flask App"
   ]
  },
  {
   "cell_type": "markdown",
   "id": "80b90c4b-fe2d-4907-9e4b-1c4ec0c39e77",
   "metadata": {},
   "source": [
    "#### Utility functions"
   ]
  },
  {
   "cell_type": "code",
   "execution_count": 42,
   "id": "ea1601b7-e819-4745-a333-fae230f219dc",
   "metadata": {},
   "outputs": [],
   "source": [
    "import requests\n",
    "\n",
    "# Base URL of the API\n",
    "base_url = \"http://localhost:8080\"\n",
    "# base_url = 'https://mongo-api-veuei2iu4q-uc.a.run.app/'\n",
    "\n",
    "# Function to send GET request to retrieve records from a collection\n",
    "def get_records(database, collection, query_params=None):\n",
    "    url = f\"{base_url}/{database}/{collection}\"\n",
    "    response = requests.get(url, params=query_params)\n",
    "    print(response.status_code)\n",
    "    print(response.json())\n",
    "\n",
    "# Function to send GET request to retrieve a specific record by ID\n",
    "def get_record_by_id(database, collection, record_id):\n",
    "    url = f\"{base_url}/{database}/{collection}/{record_id}\"\n",
    "    response = requests.get(url)\n",
    "    print(response.status_code)\n",
    "    print(response.json())\n",
    "\n",
    "# Function to send POST request to create a new record in a collection\n",
    "def create_records(database, collection, record_data):\n",
    "    url = f\"{base_url}/{database}/{collection}\"\n",
    "    response = requests.post(url, json=record_data)\n",
    "    print(response.status_code)\n",
    "    print(response.json())\n",
    "\n",
    "# Function to send PUT request to update a record by ID\n",
    "def update_record(database, collection, record_id, updated_data):\n",
    "    url = f\"{base_url}/{database}/{collection}/{record_id}\"\n",
    "    response = requests.put(url, json=updated_data)\n",
    "    print(response.status_code)\n",
    "    print(response.json())\n",
    "\n",
    "# Function to send DELETE request to delete a record by ID\n",
    "def delete_record(database, collection, record_id):\n",
    "    url = f\"{base_url}/{database}/{collection}/{record_id}\"\n",
    "    response = requests.delete(url)\n",
    "    print(response.status_code)\n",
    "    print(response.json())"
   ]
  },
  {
   "cell_type": "markdown",
   "id": "707707b7-45bb-4bc4-9a79-f8b769498726",
   "metadata": {},
   "source": [
    "#### Example usage"
   ]
  },
  {
   "cell_type": "code",
   "execution_count": null,
   "id": "a28e6530-95f4-47c9-a3d1-38cd6016a10b",
   "metadata": {},
   "outputs": [],
   "source": [
    "# Get all records from the \"users\" collection\n",
    "get_records(\"octacity\", \"users\")"
   ]
  },
  {
   "cell_type": "code",
   "execution_count": 38,
   "id": "3b02488b-2253-4c2b-90d5-a1b86031123e",
   "metadata": {},
   "outputs": [
    {
     "name": "stdout",
     "output_type": "stream",
     "text": [
      "200\n",
      "{'_id': '66024315fd428e5439e15642', 'email': 'example@example.com', 'password': 'password123', 'username': 'user123'}\n"
     ]
    }
   ],
   "source": [
    "# Get a specific record by ID from the \"users\" collection\n",
    "get_record_by_id(\"octacity\", \"users\", \"66024315fd428e5439e15642\")"
   ]
  },
  {
   "cell_type": "code",
   "execution_count": 39,
   "id": "73105ee8-b137-484e-9fcb-29628671177d",
   "metadata": {},
   "outputs": [
    {
     "name": "stdout",
     "output_type": "stream",
     "text": [
      "201\n",
      "{'data': {'_id': '660262e41eb791288f355693', 'email': 'example@email.com', 'password': 'example_password', 'username': 'example_username'}, 'message': 'Record(s) created successfully'}\n"
     ]
    }
   ],
   "source": [
    "# Create a new record in the \"users\" collection\n",
    "record = {\"username\": \"example_username\", \"password\": \"example_password\", \"email\": \"example@email.com\"}\n",
    "\n",
    "create_records(\"octacity\", \"users\", record)"
   ]
  },
  {
   "cell_type": "code",
   "execution_count": 40,
   "id": "d8260e46-0ab9-45e2-a825-cc1707a89f80",
   "metadata": {},
   "outputs": [
    {
     "name": "stdout",
     "output_type": "stream",
     "text": [
      "500\n"
     ]
    },
    {
     "ename": "JSONDecodeError",
     "evalue": "Expecting value: line 1 column 1 (char 0)",
     "output_type": "error",
     "traceback": [
      "\u001b[1;31m---------------------------------------------------------------------------\u001b[0m",
      "\u001b[1;31mJSONDecodeError\u001b[0m                           Traceback (most recent call last)",
      "File \u001b[1;32m~\\anaconda3\\Lib\\site-packages\\requests\\models.py:971\u001b[0m, in \u001b[0;36mResponse.json\u001b[1;34m(self, **kwargs)\u001b[0m\n\u001b[0;32m    970\u001b[0m \u001b[38;5;28;01mtry\u001b[39;00m:\n\u001b[1;32m--> 971\u001b[0m     \u001b[38;5;28;01mreturn\u001b[39;00m complexjson\u001b[38;5;241m.\u001b[39mloads(\u001b[38;5;28mself\u001b[39m\u001b[38;5;241m.\u001b[39mtext, \u001b[38;5;241m*\u001b[39m\u001b[38;5;241m*\u001b[39mkwargs)\n\u001b[0;32m    972\u001b[0m \u001b[38;5;28;01mexcept\u001b[39;00m JSONDecodeError \u001b[38;5;28;01mas\u001b[39;00m e:\n\u001b[0;32m    973\u001b[0m     \u001b[38;5;66;03m# Catch JSON-related errors and raise as requests.JSONDecodeError\u001b[39;00m\n\u001b[0;32m    974\u001b[0m     \u001b[38;5;66;03m# This aliases json.JSONDecodeError and simplejson.JSONDecodeError\u001b[39;00m\n",
      "File \u001b[1;32m~\\anaconda3\\Lib\\json\\__init__.py:346\u001b[0m, in \u001b[0;36mloads\u001b[1;34m(s, cls, object_hook, parse_float, parse_int, parse_constant, object_pairs_hook, **kw)\u001b[0m\n\u001b[0;32m    343\u001b[0m \u001b[38;5;28;01mif\u001b[39;00m (\u001b[38;5;28mcls\u001b[39m \u001b[38;5;129;01mis\u001b[39;00m \u001b[38;5;28;01mNone\u001b[39;00m \u001b[38;5;129;01mand\u001b[39;00m object_hook \u001b[38;5;129;01mis\u001b[39;00m \u001b[38;5;28;01mNone\u001b[39;00m \u001b[38;5;129;01mand\u001b[39;00m\n\u001b[0;32m    344\u001b[0m         parse_int \u001b[38;5;129;01mis\u001b[39;00m \u001b[38;5;28;01mNone\u001b[39;00m \u001b[38;5;129;01mand\u001b[39;00m parse_float \u001b[38;5;129;01mis\u001b[39;00m \u001b[38;5;28;01mNone\u001b[39;00m \u001b[38;5;129;01mand\u001b[39;00m\n\u001b[0;32m    345\u001b[0m         parse_constant \u001b[38;5;129;01mis\u001b[39;00m \u001b[38;5;28;01mNone\u001b[39;00m \u001b[38;5;129;01mand\u001b[39;00m object_pairs_hook \u001b[38;5;129;01mis\u001b[39;00m \u001b[38;5;28;01mNone\u001b[39;00m \u001b[38;5;129;01mand\u001b[39;00m \u001b[38;5;129;01mnot\u001b[39;00m kw):\n\u001b[1;32m--> 346\u001b[0m     \u001b[38;5;28;01mreturn\u001b[39;00m _default_decoder\u001b[38;5;241m.\u001b[39mdecode(s)\n\u001b[0;32m    347\u001b[0m \u001b[38;5;28;01mif\u001b[39;00m \u001b[38;5;28mcls\u001b[39m \u001b[38;5;129;01mis\u001b[39;00m \u001b[38;5;28;01mNone\u001b[39;00m:\n",
      "File \u001b[1;32m~\\anaconda3\\Lib\\json\\decoder.py:337\u001b[0m, in \u001b[0;36mJSONDecoder.decode\u001b[1;34m(self, s, _w)\u001b[0m\n\u001b[0;32m    333\u001b[0m \u001b[38;5;250m\u001b[39m\u001b[38;5;124;03m\"\"\"Return the Python representation of ``s`` (a ``str`` instance\u001b[39;00m\n\u001b[0;32m    334\u001b[0m \u001b[38;5;124;03mcontaining a JSON document).\u001b[39;00m\n\u001b[0;32m    335\u001b[0m \n\u001b[0;32m    336\u001b[0m \u001b[38;5;124;03m\"\"\"\u001b[39;00m\n\u001b[1;32m--> 337\u001b[0m obj, end \u001b[38;5;241m=\u001b[39m \u001b[38;5;28mself\u001b[39m\u001b[38;5;241m.\u001b[39mraw_decode(s, idx\u001b[38;5;241m=\u001b[39m_w(s, \u001b[38;5;241m0\u001b[39m)\u001b[38;5;241m.\u001b[39mend())\n\u001b[0;32m    338\u001b[0m end \u001b[38;5;241m=\u001b[39m _w(s, end)\u001b[38;5;241m.\u001b[39mend()\n",
      "File \u001b[1;32m~\\anaconda3\\Lib\\json\\decoder.py:355\u001b[0m, in \u001b[0;36mJSONDecoder.raw_decode\u001b[1;34m(self, s, idx)\u001b[0m\n\u001b[0;32m    354\u001b[0m \u001b[38;5;28;01mexcept\u001b[39;00m \u001b[38;5;167;01mStopIteration\u001b[39;00m \u001b[38;5;28;01mas\u001b[39;00m err:\n\u001b[1;32m--> 355\u001b[0m     \u001b[38;5;28;01mraise\u001b[39;00m JSONDecodeError(\u001b[38;5;124m\"\u001b[39m\u001b[38;5;124mExpecting value\u001b[39m\u001b[38;5;124m\"\u001b[39m, s, err\u001b[38;5;241m.\u001b[39mvalue) \u001b[38;5;28;01mfrom\u001b[39;00m \u001b[38;5;28;01mNone\u001b[39;00m\n\u001b[0;32m    356\u001b[0m \u001b[38;5;28;01mreturn\u001b[39;00m obj, end\n",
      "\u001b[1;31mJSONDecodeError\u001b[0m: Expecting value: line 1 column 1 (char 0)",
      "\nDuring handling of the above exception, another exception occurred:\n",
      "\u001b[1;31mJSONDecodeError\u001b[0m                           Traceback (most recent call last)",
      "Cell \u001b[1;32mIn[40], line 4\u001b[0m\n\u001b[0;32m      1\u001b[0m \u001b[38;5;66;03m# Create a new record in the \"users\" collection\u001b[39;00m\n\u001b[0;32m      2\u001b[0m records \u001b[38;5;241m=\u001b[39m [{\u001b[38;5;124m\"\u001b[39m\u001b[38;5;124musername\u001b[39m\u001b[38;5;124m\"\u001b[39m: \u001b[38;5;124m\"\u001b[39m\u001b[38;5;124mexample_username_2\u001b[39m\u001b[38;5;124m\"\u001b[39m, \u001b[38;5;124m\"\u001b[39m\u001b[38;5;124mpassword\u001b[39m\u001b[38;5;124m\"\u001b[39m: \u001b[38;5;124m\"\u001b[39m\u001b[38;5;124mexample_password_2\u001b[39m\u001b[38;5;124m\"\u001b[39m, \u001b[38;5;124m\"\u001b[39m\u001b[38;5;124memail\u001b[39m\u001b[38;5;124m\"\u001b[39m: \u001b[38;5;124m\"\u001b[39m\u001b[38;5;124mexample_2@email.com\u001b[39m\u001b[38;5;124m\"\u001b[39m}]\n\u001b[1;32m----> 4\u001b[0m create_records(\u001b[38;5;124m\"\u001b[39m\u001b[38;5;124moctacity\u001b[39m\u001b[38;5;124m\"\u001b[39m, \u001b[38;5;124m\"\u001b[39m\u001b[38;5;124musers\u001b[39m\u001b[38;5;124m\"\u001b[39m, records)\n",
      "Cell \u001b[1;32mIn[23], line 26\u001b[0m, in \u001b[0;36mcreate_records\u001b[1;34m(database, collection, record_data)\u001b[0m\n\u001b[0;32m     24\u001b[0m response \u001b[38;5;241m=\u001b[39m requests\u001b[38;5;241m.\u001b[39mpost(url, json\u001b[38;5;241m=\u001b[39mrecord_data)\n\u001b[0;32m     25\u001b[0m \u001b[38;5;28mprint\u001b[39m(response\u001b[38;5;241m.\u001b[39mstatus_code)\n\u001b[1;32m---> 26\u001b[0m \u001b[38;5;28mprint\u001b[39m(response\u001b[38;5;241m.\u001b[39mjson())\n",
      "File \u001b[1;32m~\\anaconda3\\Lib\\site-packages\\requests\\models.py:975\u001b[0m, in \u001b[0;36mResponse.json\u001b[1;34m(self, **kwargs)\u001b[0m\n\u001b[0;32m    971\u001b[0m     \u001b[38;5;28;01mreturn\u001b[39;00m complexjson\u001b[38;5;241m.\u001b[39mloads(\u001b[38;5;28mself\u001b[39m\u001b[38;5;241m.\u001b[39mtext, \u001b[38;5;241m*\u001b[39m\u001b[38;5;241m*\u001b[39mkwargs)\n\u001b[0;32m    972\u001b[0m \u001b[38;5;28;01mexcept\u001b[39;00m JSONDecodeError \u001b[38;5;28;01mas\u001b[39;00m e:\n\u001b[0;32m    973\u001b[0m     \u001b[38;5;66;03m# Catch JSON-related errors and raise as requests.JSONDecodeError\u001b[39;00m\n\u001b[0;32m    974\u001b[0m     \u001b[38;5;66;03m# This aliases json.JSONDecodeError and simplejson.JSONDecodeError\u001b[39;00m\n\u001b[1;32m--> 975\u001b[0m     \u001b[38;5;28;01mraise\u001b[39;00m RequestsJSONDecodeError(e\u001b[38;5;241m.\u001b[39mmsg, e\u001b[38;5;241m.\u001b[39mdoc, e\u001b[38;5;241m.\u001b[39mpos)\n",
      "\u001b[1;31mJSONDecodeError\u001b[0m: Expecting value: line 1 column 1 (char 0)"
     ]
    }
   ],
   "source": [
    "# Create a new record in the \"users\" collection\n",
    "records = [{\"username\": \"example_username_2\", \"password\": \"example_password_2\", \"email\": \"example_2@email.com\"}]\n",
    "\n",
    "create_records(\"octacity\", \"users\", records)"
   ]
  },
  {
   "cell_type": "code",
   "execution_count": 29,
   "id": "bcd3e61f-71f5-42a6-a3e5-cdc3656a2e1b",
   "metadata": {},
   "outputs": [
    {
     "name": "stdout",
     "output_type": "stream",
     "text": [
      "200\n",
      "{'data': {'email': 'new_email@example.com'}, 'message': 'Record updated successfully'}\n"
     ]
    }
   ],
   "source": [
    "# Update a record by ID in the \"users\" collection\n",
    "update_record(\"octacity\", \"users\", \"66025fab772b63003218761e\", {\"email\": \"new_email@example.com\"})"
   ]
  },
  {
   "cell_type": "code",
   "execution_count": 35,
   "id": "89a245d1-244d-4645-a791-80987feb6cb6",
   "metadata": {},
   "outputs": [
    {
     "name": "stdout",
     "output_type": "stream",
     "text": [
      "200\n",
      "{'deleted_record_id': '660262761eb791288f355692', 'message': 'Record deleted successfully'}\n"
     ]
    }
   ],
   "source": [
    "# Delete a record by ID from the \"users\" collection\n",
    "delete_record(\"octacity\", \"users\", \"660262761eb791288f355692\")"
   ]
  },
  {
   "cell_type": "code",
   "execution_count": 36,
   "id": "d680722e-5301-4cf5-bca3-06c433aa5281",
   "metadata": {},
   "outputs": [
    {
     "name": "stdout",
     "output_type": "stream",
     "text": [
      "200\n",
      "[{'_id': '66024315fd428e5439e15642', 'email': 'example@example.com', 'password': 'password123', 'username': 'user123'}]\n"
     ]
    }
   ],
   "source": [
    "# Get all records from the \"users\" collection\n",
    "get_records(\"octacity\", \"users\")"
   ]
  }
 ],
 "metadata": {
  "kernelspec": {
   "display_name": "Python 3 (ipykernel)",
   "language": "python",
   "name": "python3"
  },
  "language_info": {
   "codemirror_mode": {
    "name": "ipython",
    "version": 3
   },
   "file_extension": ".py",
   "mimetype": "text/x-python",
   "name": "python",
   "nbconvert_exporter": "python",
   "pygments_lexer": "ipython3",
   "version": "3.11.7"
  }
 },
 "nbformat": 4,
 "nbformat_minor": 5
}
