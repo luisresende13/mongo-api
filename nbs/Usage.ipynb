{
 "cells": [
  {
   "cell_type": "markdown",
   "id": "bf2a89bb-94ba-49e7-9df2-cd882e38aa84",
   "metadata": {},
   "source": [
    "## Basic Usage: MongoDB API Flask App"
   ]
  },
  {
   "cell_type": "code",
   "execution_count": 2,
   "id": "ed61b691-a69e-41b8-b2f7-566a7605e318",
   "metadata": {},
   "outputs": [
    {
     "name": "stdout",
     "output_type": "stream",
     "text": [
      "C:\\Users\\luisr\\Repositories\\Flask APIs\\mongo-api\n"
     ]
    }
   ],
   "source": [
    "cd ../"
   ]
  },
  {
   "cell_type": "markdown",
   "id": "80b90c4b-fe2d-4907-9e4b-1c4ec0c39e77",
   "metadata": {},
   "source": [
    "#### Utility functions"
   ]
  },
  {
   "cell_type": "code",
   "execution_count": 3,
   "id": "6d59394c-cf6c-4081-be86-8d77f16f4567",
   "metadata": {},
   "outputs": [],
   "source": [
    "import os\n",
    "from modules.mongo_api_http import MongoDB\n",
    "\n",
    "MONGO_API_URL = os.environ.get('MONGO_API_URL', 'http://localhost:5000')\n",
    "mongo = MongoDB(MONGO_API_URL)"
   ]
  },
  {
   "cell_type": "markdown",
   "id": "707707b7-45bb-4bc4-9a79-f8b769498726",
   "metadata": {},
   "source": [
    "#### Example usage"
   ]
  },
  {
   "cell_type": "code",
   "execution_count": 5,
   "id": "a28e6530-95f4-47c9-a3d1-38cd6016a10b",
   "metadata": {},
   "outputs": [
    {
     "data": {
      "text/plain": [
       "[{'_id': '66024315fd428e5439e15642',\n",
       "  'email': 'example@example.com',\n",
       "  'password': 'password123',\n",
       "  'username': 'user123'}]"
      ]
     },
     "execution_count": 5,
     "metadata": {},
     "output_type": "execute_result"
    }
   ],
   "source": [
    "# Get all records from the \"users\" collection\n",
    "mongo.get_records(\"octacity\", \"users\")"
   ]
  },
  {
   "cell_type": "code",
   "execution_count": 6,
   "id": "3b02488b-2253-4c2b-90d5-a1b86031123e",
   "metadata": {},
   "outputs": [
    {
     "data": {
      "text/plain": [
       "{'_id': '66024315fd428e5439e15642',\n",
       " 'email': 'example@example.com',\n",
       " 'password': 'password123',\n",
       " 'username': 'user123'}"
      ]
     },
     "execution_count": 6,
     "metadata": {},
     "output_type": "execute_result"
    }
   ],
   "source": [
    "# Get a specific record by ID from the \"users\" collection\n",
    "mongo.get_record_by_id(\"octacity\", \"users\", \"66024315fd428e5439e15642\")"
   ]
  },
  {
   "cell_type": "code",
   "execution_count": 7,
   "id": "73105ee8-b137-484e-9fcb-29628671177d",
   "metadata": {},
   "outputs": [
    {
     "data": {
      "text/plain": [
       "{'data': {'_id': '6603b9802ea9f78d50e36e0a',\n",
       "  'email': 'TEST',\n",
       "  'password': 'TEST',\n",
       "  'username': 'TEST'},\n",
       " 'message': 'Record(s) created successfully'}"
      ]
     },
     "execution_count": 7,
     "metadata": {},
     "output_type": "execute_result"
    }
   ],
   "source": [
    "# Create a new record in the \"users\" collection\n",
    "record = {\"username\": \"TEST\", \"password\": \"TEST\", \"email\": \"TEST\"}\n",
    "\n",
    "mongo.create_records(\"octacity\", \"users\", record)"
   ]
  },
  {
   "cell_type": "code",
   "execution_count": 8,
   "id": "d8260e46-0ab9-45e2-a825-cc1707a89f80",
   "metadata": {},
   "outputs": [
    {
     "data": {
      "text/plain": [
       "{'data': [{'_id': '6603b9822ea9f78d50e36e0b',\n",
       "   'email': 'TEST_2',\n",
       "   'password': 'TEST_2',\n",
       "   'username': 'TEST_2'}],\n",
       " 'message': 'Record(s) created successfully'}"
      ]
     },
     "execution_count": 8,
     "metadata": {},
     "output_type": "execute_result"
    }
   ],
   "source": [
    "# Create a new record in the \"users\" collection\n",
    "records = [{\"username\": \"TEST_2\", \"password\": \"TEST_2\", \"email\": \"TEST_2\"}]\n",
    "\n",
    "mongo.create_records(\"octacity\", \"users\", records)"
   ]
  },
  {
   "cell_type": "code",
   "execution_count": 9,
   "id": "bcd3e61f-71f5-42a6-a3e5-cdc3656a2e1b",
   "metadata": {},
   "outputs": [
    {
     "data": {
      "text/plain": [
       "{'data': {'email': 'new_email@example.com'},\n",
       " 'message': 'Record updated successfully'}"
      ]
     },
     "execution_count": 9,
     "metadata": {},
     "output_type": "execute_result"
    }
   ],
   "source": [
    "# Update a record by ID in the \"users\" collection\n",
    "mongo.update_record(\"octacity\", \"users\", \"6603b9822ea9f78d50e36e0b\", {\"email\": \"new_email@example.com\"})"
   ]
  },
  {
   "cell_type": "code",
   "execution_count": 10,
   "id": "89a245d1-244d-4645-a791-80987feb6cb6",
   "metadata": {},
   "outputs": [
    {
     "data": {
      "text/plain": [
       "{'deleted_record_id': '6603b9802ea9f78d50e36e0a',\n",
       " 'message': 'Record deleted successfully'}"
      ]
     },
     "execution_count": 10,
     "metadata": {},
     "output_type": "execute_result"
    }
   ],
   "source": [
    "# Delete a record by ID from the \"users\" collection\n",
    "mongo.delete_record(\"octacity\", \"users\", \"6603b9802ea9f78d50e36e0a\")"
   ]
  },
  {
   "cell_type": "code",
   "execution_count": 11,
   "id": "d680722e-5301-4cf5-bca3-06c433aa5281",
   "metadata": {},
   "outputs": [
    {
     "data": {
      "text/plain": [
       "[{'_id': '66024315fd428e5439e15642',\n",
       "  'email': 'example@example.com',\n",
       "  'password': 'password123',\n",
       "  'username': 'user123'},\n",
       " {'_id': '6603b9822ea9f78d50e36e0b',\n",
       "  'email': 'new_email@example.com',\n",
       "  'password': 'TEST_2',\n",
       "  'username': 'TEST_2'}]"
      ]
     },
     "execution_count": 11,
     "metadata": {},
     "output_type": "execute_result"
    }
   ],
   "source": [
    "# Get all records from the \"users\" collection\n",
    "mongo.get_records(\"octacity\", \"users\")"
   ]
  },
  {
   "cell_type": "markdown",
   "id": "3fc32cd5-add7-48c3-8c9e-bf0c716f3852",
   "metadata": {},
   "source": [
    "#### Manage cameras"
   ]
  },
  {
   "cell_type": "code",
   "execution_count": 6,
   "id": "767147f0-8edf-44d4-9320-afaaa025fc01",
   "metadata": {},
   "outputs": [
    {
     "data": {
      "text/plain": [
       "{'deleted_record_id': '6603c0f7d6392f92e6f30c25',\n",
       " 'message': 'Record deleted successfully'}"
      ]
     },
     "execution_count": 6,
     "metadata": {},
     "output_type": "execute_result"
    }
   ],
   "source": [
    "# Delete a record by ID from the \"users\" collection\n",
    "mongo.delete_record(\"octacity\", \"cameras\", \"6603c0f7d6392f92e6f30c25\")"
   ]
  }
 ],
 "metadata": {
  "kernelspec": {
   "display_name": "Python 3 (ipykernel)",
   "language": "python",
   "name": "python3"
  },
  "language_info": {
   "codemirror_mode": {
    "name": "ipython",
    "version": 3
   },
   "file_extension": ".py",
   "mimetype": "text/x-python",
   "name": "python",
   "nbconvert_exporter": "python",
   "pygments_lexer": "ipython3",
   "version": "3.11.7"
  }
 },
 "nbformat": 4,
 "nbformat_minor": 5
}
